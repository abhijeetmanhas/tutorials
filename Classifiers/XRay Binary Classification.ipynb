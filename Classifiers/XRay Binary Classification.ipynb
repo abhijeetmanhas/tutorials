{
 "cells": [
  {
   "cell_type": "code",
   "execution_count": 8,
   "metadata": {},
   "outputs": [],
   "source": [
    "from mirapy.data.load_dataset import load_xray_binary_data\n",
    "from mirapy.classifiers.models import XRayBinaryClassifier\n",
    "import mirapy\n",
    "\n",
    "from sklearn.metrics import classification_report, accuracy_score\n",
    "from sklearn.model_selection import train_test_split\n",
    "from keras.optimizers import Adam"
   ]
  },
  {
   "cell_type": "code",
   "execution_count": 9,
   "metadata": {},
   "outputs": [],
   "source": [
    "data_dir = 'D:\\MTP\\XRay-Binary-Classification\\XRay-Binary-Classification\\Training'\n",
    "x_train, y_train, x_test, y_test = load_xray_binary_data(data_dir, 0.2, True)"
   ]
  },
  {
   "cell_type": "code",
   "execution_count": 10,
   "metadata": {},
   "outputs": [],
   "source": [
    "classifier = XRayBinaryClassifier('relu', 'adam')\n",
    "\n",
    "classifier.compile('mean_squared_error')"
   ]
  },
  {
   "cell_type": "code",
   "execution_count": 26,
   "metadata": {},
   "outputs": [
    {
     "name": "stdout",
     "output_type": "stream",
     "text": [
      "Epoch 1/10\n",
      " - 4s - loss: 0.0132 - acc: 0.9747\n",
      "Epoch 2/10\n",
      " - 4s - loss: 0.0133 - acc: 0.9740\n",
      "Epoch 3/10\n",
      " - 4s - loss: 0.0133 - acc: 0.9742\n",
      "Epoch 4/10\n",
      " - 4s - loss: 0.0131 - acc: 0.9752\n",
      "Epoch 5/10\n",
      " - 4s - loss: 0.0132 - acc: 0.9746\n",
      "Epoch 6/10\n",
      " - 4s - loss: 0.0132 - acc: 0.9740\n",
      "Epoch 7/10\n",
      " - 4s - loss: 0.0132 - acc: 0.9740\n",
      "Epoch 8/10\n",
      " - 4s - loss: 0.0132 - acc: 0.9744\n",
      "Epoch 9/10\n",
      " - 4s - loss: 0.0132 - acc: 0.9745\n",
      "Epoch 10/10\n",
      " - 4s - loss: 0.0131 - acc: 0.9743\n"
     ]
    },
    {
     "data": {
      "text/plain": [
       "<keras.callbacks.History at 0x21f359ea780>"
      ]
     },
     "execution_count": 26,
     "metadata": {},
     "output_type": "execute_result"
    }
   ],
   "source": [
    "# classifier.train(x_train, y_train, 50, 100, 0.1)\n",
    "classifier.model.fit(x_train, y_train, epochs=10,\n",
    "                       batch_size=32, verbose=1)"
   ]
  },
  {
   "cell_type": "code",
   "execution_count": 18,
   "metadata": {},
   "outputs": [
    {
     "name": "stdout",
     "output_type": "stream",
     "text": [
      "              precision    recall  f1-score   support\n",
      "\n",
      "           0       0.96      0.97      0.97      2637\n",
      "           1       0.91      0.87      0.89       484\n",
      "           2       0.98      0.98      0.98      5056\n",
      "\n",
      "   micro avg       0.97      0.97      0.97      8177\n",
      "   macro avg       0.95      0.94      0.95      8177\n",
      "weighted avg       0.97      0.97      0.97      8177\n",
      "\n",
      "Accuracy: 97.05 %\n"
     ]
    }
   ],
   "source": [
    "y_predicted = classifier.test(x_test)\n",
    "print(classification_report(y_test, y_predicted))\n",
    "print(\"Accuracy:\", round(accuracy_score(y_test, y_predicted)*100, 2), \"%\")"
   ]
  }
 ],
 "metadata": {
  "kernelspec": {
   "display_name": "Python 3",
   "language": "python",
   "name": "python3"
  },
  "language_info": {
   "codemirror_mode": {
    "name": "ipython",
    "version": 3
   },
   "file_extension": ".py",
   "mimetype": "text/x-python",
   "name": "python",
   "nbconvert_exporter": "python",
   "pygments_lexer": "ipython3",
   "version": "3.5.6"
  }
 },
 "nbformat": 4,
 "nbformat_minor": 2
}
