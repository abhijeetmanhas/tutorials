{
 "cells": [
  {
   "cell_type": "markdown",
   "metadata": {},
   "source": [
    "# Classification of Variable Star features in ATLAS Catalog\n",
    "We demonstrate how to use MiraPy to classify variable stars using features extracted from light curves. These features are available in ATLAS catalog. We use deep neural network for the same.\n",
    "\n",
    "## Loading dataset"
   ]
  },
  {
   "cell_type": "code",
   "execution_count": 1,
   "metadata": {},
   "outputs": [
    {
     "name": "stderr",
     "output_type": "stream",
     "text": [
      "Using TensorFlow backend.\n"
     ]
    }
   ],
   "source": [
    "from mirapy.data.load_dataset import load_atlas_star_data\n",
    "from mirapy.classifiers.models import AtlasVarStarClassifier\n",
    "import mirapy\n",
    "\n",
    "import os\n",
    "from os import walk\n",
    "import pandas as pd\n",
    "from sklearn.metrics import classification_report, accuracy_score\n",
    "from sklearn.model_selection import train_test_split\n",
    "from keras.optimizers import Adam\n",
    "from sklearn.preprocessing import LabelEncoder, OneHotEncoder\n",
    "from sklearn.preprocessing import StandardScaler"
   ]
  },
  {
   "cell_type": "code",
   "execution_count": 2,
   "metadata": {},
   "outputs": [],
   "source": [
    "path = 'D:\\MTP\\ATLAS\\dataset'\n",
    "csv_file = os.path.join(path, \"non_dub.csv\")"
   ]
  },
  {
   "cell_type": "markdown",
   "metadata": {},
   "source": [
    "We use data loader provided with MiraPy. We do 80-20% spliting for training and testing."
   ]
  },
  {
   "cell_type": "code",
   "execution_count": 3,
   "metadata": {},
   "outputs": [],
   "source": [
    "x_train, y_train, x_test, y_test = load_atlas_star_data(csv_file, 0.2)"
   ]
  },
  {
   "cell_type": "markdown",
   "metadata": {},
   "source": [
    "## Variable Star Classification\n",
    "In feature classification model, we use ReLU function and adam optimizer for training."
   ]
  },
  {
   "cell_type": "code",
   "execution_count": 4,
   "metadata": {},
   "outputs": [],
   "source": [
    "classifier = AtlasVarStarClassifier('relu', 'adam', input_size=x_train[0].shape[0], num_classes=y_train[0].shape[0])\n",
    "classifier.compile('mean_squared_error')"
   ]
  },
  {
   "cell_type": "code",
   "execution_count": 7,
   "metadata": {},
   "outputs": [
    {
     "name": "stdout",
     "output_type": "stream",
     "text": [
      "Epoch 1/10\n",
      " - 10s - loss: 0.0072 - acc: 0.9576\n",
      "Epoch 2/10\n",
      " - 9s - loss: 0.0073 - acc: 0.9567\n",
      "Epoch 3/10\n",
      " - 9s - loss: 0.0072 - acc: 0.9569\n",
      "Epoch 4/10\n",
      " - 10s - loss: 0.0071 - acc: 0.9583\n",
      "Epoch 5/10\n",
      " - 10s - loss: 0.0070 - acc: 0.9585\n",
      "Epoch 6/10\n",
      " - 10s - loss: 0.0069 - acc: 0.9592\n",
      "Epoch 7/10\n",
      " - 9s - loss: 0.0069 - acc: 0.9587\n",
      "Epoch 8/10\n",
      " - 9s - loss: 0.0068 - acc: 0.9596\n",
      "Epoch 9/10\n",
      " - 9s - loss: 0.0068 - acc: 0.9599\n",
      "Epoch 10/10\n",
      " - 9s - loss: 0.0067 - acc: 0.9606\n"
     ]
    },
    {
     "data": {
      "text/plain": [
       "<keras.callbacks.History at 0x1c568a10898>"
      ]
     },
     "execution_count": 7,
     "metadata": {},
     "output_type": "execute_result"
    }
   ],
   "source": [
    "# classifier.train(x_train, y_train, epochs=50,\n",
    "#                        batch_size=32)\n",
    "classifier.model.fit(x_train, y_train, epochs=10,\n",
    "                       batch_size=32, verbose=2)"
   ]
  },
  {
   "cell_type": "markdown",
   "metadata": {},
   "source": [
    "convert string classes to integer encoded"
   ]
  },
  {
   "cell_type": "code",
   "execution_count": 8,
   "metadata": {},
   "outputs": [
    {
     "name": "stdout",
     "output_type": "stream",
     "text": [
      "              precision    recall  f1-score   support\n",
      "\n",
      "           0       0.95      0.95      0.95      3373\n",
      "           1       0.97      0.98      0.97      2977\n",
      "           2       0.84      0.87      0.85       840\n",
      "           3       0.94      0.91      0.93      1406\n",
      "           4       0.98      0.99      0.99       439\n",
      "           5       0.86      0.80      0.83       396\n",
      "           6       0.94      0.97      0.96      2655\n",
      "           7       0.98      0.97      0.98      1839\n",
      "           8       1.00      0.98      0.99      2472\n",
      "\n",
      "   micro avg       0.95      0.95      0.95     16397\n",
      "   macro avg       0.94      0.94      0.94     16397\n",
      "weighted avg       0.95      0.95      0.95     16397\n",
      "\n",
      "Accuracy: 95.45 %\n"
     ]
    }
   ],
   "source": [
    "label_encoder = LabelEncoder()\n",
    "integer_encoded = label_encoder.fit_transform(y_test)\n",
    "y_test = integer_encoded\n",
    "\n",
    "y_predicted = classifier.test(x_test)\n",
    "print(classification_report(y_test, y_predicted))\n",
    "print(\"Accuracy:\", round(accuracy_score(y_test, y_predicted)*100, 2), \"%\")"
   ]
  }
 ],
 "metadata": {
  "kernelspec": {
   "display_name": "Python 3",
   "language": "python",
   "name": "python3"
  },
  "language_info": {
   "codemirror_mode": {
    "name": "ipython",
    "version": 3
   },
   "file_extension": ".py",
   "mimetype": "text/x-python",
   "name": "python",
   "nbconvert_exporter": "python",
   "pygments_lexer": "ipython3",
   "version": "3.6.7"
  }
 },
 "nbformat": 4,
 "nbformat_minor": 2
}
